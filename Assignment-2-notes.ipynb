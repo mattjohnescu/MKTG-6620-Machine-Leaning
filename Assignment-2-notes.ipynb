{
 "cells": [
  {
   "cell_type": "markdown",
   "metadata": {},
   "source": [
    "Assignment 2 code:"
   ]
  },
  {
   "cell_type": "code",
   "execution_count": 2,
   "metadata": {},
   "outputs": [],
   "source": [
    "import numpy as np\n",
    "import pandas as pd"
   ]
  },
  {
   "cell_type": "code",
   "execution_count": 3,
   "metadata": {},
   "outputs": [],
   "source": [
    "# Add File Path of the CSV file here\n",
    "# file_path = \"\"\n",
    "file_path = \"C:/Users/matt/Downloads/archive (3)/daily-website-visitors.csv\"\n",
    "\n",
    "# Reading the CSV file into a pandas DataFrame\n",
    "df = pd.read_csv(file_path)"
   ]
  },
  {
   "cell_type": "code",
   "execution_count": 4,
   "metadata": {},
   "outputs": [
    {
     "name": "stdout",
     "output_type": "stream",
     "text": [
      "   Row        Day  Day.Of.Week       Date Page.Loads Unique.Visits  \\\n",
      "0    1     Sunday            1  9/14/2014      2,146         1,582   \n",
      "1    2     Monday            2  9/15/2014      3,621         2,528   \n",
      "2    3    Tuesday            3  9/16/2014      3,698         2,630   \n",
      "3    4  Wednesday            4  9/17/2014      3,667         2,614   \n",
      "4    5   Thursday            5  9/18/2014      3,316         2,366   \n",
      "\n",
      "  First.Time.Visits Returning.Visits  \n",
      "0             1,430              152  \n",
      "1             2,297              231  \n",
      "2             2,352              278  \n",
      "3             2,327              287  \n",
      "4             2,130              236  \n",
      "\n",
      "Null Values:\n",
      " Row                  0\n",
      "Day                  0\n",
      "Day.Of.Week          0\n",
      "Date                 0\n",
      "Page.Loads           0\n",
      "Unique.Visits        0\n",
      "First.Time.Visits    0\n",
      "Returning.Visits     0\n",
      "dtype: int64\n",
      "\n",
      "Statistics:\n",
      "                Row  Day.Of.Week\n",
      "count  2167.000000  2167.000000\n",
      "mean   1084.000000     3.997231\n",
      "std     625.703338     2.000229\n",
      "min       1.000000     1.000000\n",
      "25%     542.500000     2.000000\n",
      "50%    1084.000000     4.000000\n",
      "75%    1625.500000     6.000000\n",
      "max    2167.000000     7.000000\n"
     ]
    }
   ],
   "source": [
    "# View the head of the dataset\n",
    "print(df.head())\n",
    "\n",
    "# Check for null values in the dataset\n",
    "print(\"\\nNull Values:\\n\", df.isnull().sum())\n",
    "\n",
    "# Get basic statistical description of the dataset\n",
    "print(\"\\nStatistics:\\n\", df.describe())\n"
   ]
  },
  {
   "cell_type": "code",
   "execution_count": null,
   "metadata": {},
   "outputs": [],
   "source": []
  }
 ],
 "metadata": {
  "kernelspec": {
   "display_name": "Python 3",
   "language": "python",
   "name": "python3"
  },
  "language_info": {
   "codemirror_mode": {
    "name": "ipython",
    "version": 3
   },
   "file_extension": ".py",
   "mimetype": "text/x-python",
   "name": "python",
   "nbconvert_exporter": "python",
   "pygments_lexer": "ipython3",
   "version": "3.12.4"
  }
 },
 "nbformat": 4,
 "nbformat_minor": 2
}
