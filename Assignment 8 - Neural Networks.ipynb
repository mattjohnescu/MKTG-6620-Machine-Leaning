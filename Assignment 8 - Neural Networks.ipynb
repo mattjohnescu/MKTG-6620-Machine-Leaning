{
 "cells": [
  {
   "cell_type": "markdown",
   "metadata": {},
   "source": [
    "# Assignment 8 Neural Networks"
   ]
  },
  {
   "cell_type": "markdown",
   "metadata": {},
   "source": [
    "# Table of Contents:"
   ]
  },
  {
   "cell_type": "markdown",
   "metadata": {},
   "source": [
    "# Assignment Questions"
   ]
  },
  {
   "cell_type": "markdown",
   "metadata": {},
   "source": [
    "# Importing Packages"
   ]
  },
  {
   "cell_type": "code",
   "execution_count": 1,
   "metadata": {},
   "outputs": [],
   "source": [
    "import pandas as pd\n",
    "import numpy as np\n",
    "from sklearn.model_selection import train_test_split\n",
    "from sklearn.preprocessing import StandardScaler\n",
    "from tensorflow.keras.models import Sequential\n",
    "from tensorflow.keras.layers import Dense\n",
    "import warnings\n",
    "warnings.filterwarnings('ignore')"
   ]
  },
  {
   "cell_type": "markdown",
   "metadata": {},
   "source": [
    "# Importing Dataset"
   ]
  },
  {
   "cell_type": "code",
   "execution_count": 2,
   "metadata": {},
   "outputs": [],
   "source": [
    "# Add File Path of the CSV file here\n",
    "file_path = \"C:/Users/johne/Downloads/Electronic_sales_Sep2023-Sep2024.csv\"\n",
    "# file_path = \"C:/Users/matt/Downloads/archive (2)/Electronic_sales_Sep2023-Sep2024.csv\"\n",
    "# Reading the CSV file into a pandas DataFrame\n",
    "df = pd.read_csv(file_path)"
   ]
  },
  {
   "cell_type": "code",
   "execution_count": 3,
   "metadata": {},
   "outputs": [
    {
     "name": "stdout",
     "output_type": "stream",
     "text": [
      "Customer ID             0\n",
      "Age                     0\n",
      "Gender                  1\n",
      "Loyalty Member          0\n",
      "Product Type            0\n",
      "SKU                     0\n",
      "Rating                  0\n",
      "Order Status            0\n",
      "Payment Method          0\n",
      "Total Price             0\n",
      "Unit Price              0\n",
      "Quantity                0\n",
      "Purchase Date           0\n",
      "Shipping Type           0\n",
      "Add-ons Purchased    4868\n",
      "Add-on Total            0\n",
      "dtype: int64\n",
      "        Customer ID           Age        Rating   Total Price    Unit Price  \\\n",
      "count  20000.000000  20000.000000  20000.000000  20000.000000  20000.000000   \n",
      "mean   10483.526550     48.994100      3.093950   3180.133419    578.631867   \n",
      "std     5631.732525     18.038745      1.223764   2544.978675    312.274076   \n",
      "min     1000.000000     18.000000      1.000000     20.750000     20.750000   \n",
      "25%     5478.000000     33.000000      2.000000   1139.680000    361.180000   \n",
      "50%    10499.500000     49.000000      3.000000   2534.490000    463.960000   \n",
      "75%    15504.000000     65.000000      4.000000   4639.600000    791.190000   \n",
      "max    19998.000000     80.000000      5.000000  11396.800000   1139.680000   \n",
      "\n",
      "           Quantity  Add-on Total  \n",
      "count  20000.000000  20000.000000  \n",
      "mean       5.485550     62.244848  \n",
      "std        2.870854     58.058431  \n",
      "min        1.000000      0.000000  \n",
      "25%        3.000000      7.615000  \n",
      "50%        5.000000     51.700000  \n",
      "75%        8.000000     93.842500  \n",
      "max       10.000000    292.770000  \n"
     ]
    }
   ],
   "source": [
    "# Check for missing data in the dataset\n",
    "missing_data = df.isnull().sum()\n",
    "print(missing_data)\n",
    "\n",
    "# Display basic statistics for the dataset\n",
    "basic_statistics = df.describe()\n",
    "print(basic_statistics)"
   ]
  },
  {
   "cell_type": "code",
   "execution_count": null,
   "metadata": {},
   "outputs": [
    {
     "name": "stdout",
     "output_type": "stream",
     "text": [
      "Epoch 1/60\n",
      "\u001b[1m1280/1280\u001b[0m \u001b[32m━━━━━━━━━━━━━━━━━━━━\u001b[0m\u001b[37m\u001b[0m \u001b[1m3s\u001b[0m 2ms/step - loss: 15723689.0000 - mean_absolute_error: 3059.9541 - val_loss: 7394194.0000 - val_mean_absolute_error: 1931.7036\n",
      "Epoch 2/60\n",
      "\u001b[1m1280/1280\u001b[0m \u001b[32m━━━━━━━━━━━━━━━━━━━━\u001b[0m\u001b[37m\u001b[0m \u001b[1m2s\u001b[0m 2ms/step - loss: 5219309.0000 - mean_absolute_error: 1635.2354 - val_loss: 3296087.2500 - val_mean_absolute_error: 1368.1172\n",
      "Epoch 3/60\n",
      "\u001b[1m1280/1280\u001b[0m \u001b[32m━━━━━━━━━━━━━━━━━━━━\u001b[0m\u001b[37m\u001b[0m \u001b[1m2s\u001b[0m 2ms/step - loss: 2690372.5000 - mean_absolute_error: 1217.0243 - val_loss: 2232493.5000 - val_mean_absolute_error: 1091.1869\n",
      "Epoch 4/60\n",
      "\u001b[1m1280/1280\u001b[0m \u001b[32m━━━━━━━━━━━━━━━━━━━━\u001b[0m\u001b[37m\u001b[0m \u001b[1m2s\u001b[0m 2ms/step - loss: 1744886.0000 - mean_absolute_error: 949.0664 - val_loss: 1491848.5000 - val_mean_absolute_error: 862.1534\n",
      "Epoch 5/60\n",
      "\u001b[1m1280/1280\u001b[0m \u001b[32m━━━━━━━━━━━━━━━━━━━━\u001b[0m\u001b[37m\u001b[0m \u001b[1m2s\u001b[0m 2ms/step - loss: 1226130.8750 - mean_absolute_error: 773.1716 - val_loss: 998533.6250 - val_mean_absolute_error: 689.5789\n",
      "Epoch 6/60\n",
      "\u001b[1m1280/1280\u001b[0m \u001b[32m━━━━━━━━━━━━━━━━━━━━\u001b[0m\u001b[37m\u001b[0m \u001b[1m2s\u001b[0m 2ms/step - loss: 790623.7500 - mean_absolute_error: 612.6052 - val_loss: 691747.0625 - val_mean_absolute_error: 572.1833\n",
      "Epoch 7/60\n",
      "\u001b[1m1280/1280\u001b[0m \u001b[32m━━━━━━━━━━━━━━━━━━━━\u001b[0m\u001b[37m\u001b[0m \u001b[1m2s\u001b[0m 2ms/step - loss: 571320.8125 - mean_absolute_error: 521.1319 - val_loss: 523707.0000 - val_mean_absolute_error: 505.9713\n",
      "Epoch 8/60\n",
      "\u001b[1m1280/1280\u001b[0m \u001b[32m━━━━━━━━━━━━━━━━━━━━\u001b[0m\u001b[37m\u001b[0m \u001b[1m2s\u001b[0m 2ms/step - loss: 445119.6562 - mean_absolute_error: 475.4683 - val_loss: 432572.7188 - val_mean_absolute_error: 467.9749\n",
      "Epoch 9/60\n",
      "\u001b[1m1280/1280\u001b[0m \u001b[32m━━━━━━━━━━━━━━━━━━━━\u001b[0m\u001b[37m\u001b[0m \u001b[1m3s\u001b[0m 2ms/step - loss: 358353.0938 - mean_absolute_error: 431.3920 - val_loss: 372797.0000 - val_mean_absolute_error: 442.1398\n",
      "Epoch 10/60\n",
      "\u001b[1m1280/1280\u001b[0m \u001b[32m━━━━━━━━━━━━━━━━━━━━\u001b[0m\u001b[37m\u001b[0m \u001b[1m3s\u001b[0m 2ms/step - loss: 301382.8750 - mean_absolute_error: 403.9744 - val_loss: 325478.5312 - val_mean_absolute_error: 416.7147\n",
      "Epoch 11/60\n",
      "\u001b[1m1280/1280\u001b[0m \u001b[32m━━━━━━━━━━━━━━━━━━━━\u001b[0m\u001b[37m\u001b[0m \u001b[1m3s\u001b[0m 2ms/step - loss: 256770.0156 - mean_absolute_error: 373.2702 - val_loss: 285410.2500 - val_mean_absolute_error: 392.9700\n",
      "Epoch 12/60\n",
      "\u001b[1m1280/1280\u001b[0m \u001b[32m━━━━━━━━━━━━━━━━━━━━\u001b[0m\u001b[37m\u001b[0m \u001b[1m2s\u001b[0m 2ms/step - loss: 223135.1250 - mean_absolute_error: 349.8194 - val_loss: 252102.5625 - val_mean_absolute_error: 370.0363\n",
      "Epoch 13/60\n",
      "\u001b[1m1280/1280\u001b[0m \u001b[32m━━━━━━━━━━━━━━━━━━━━\u001b[0m\u001b[37m\u001b[0m \u001b[1m2s\u001b[0m 2ms/step - loss: 192649.9375 - mean_absolute_error: 325.9652 - val_loss: 225045.6562 - val_mean_absolute_error: 349.4650\n",
      "Epoch 14/60\n",
      "\u001b[1m1280/1280\u001b[0m \u001b[32m━━━━━━━━━━━━━━━━━━━━\u001b[0m\u001b[37m\u001b[0m \u001b[1m2s\u001b[0m 2ms/step - loss: 170576.2344 - mean_absolute_error: 305.3313 - val_loss: 203795.3438 - val_mean_absolute_error: 333.6483\n",
      "Epoch 15/60\n",
      "\u001b[1m1280/1280\u001b[0m \u001b[32m━━━━━━━━━━━━━━━━━━━━\u001b[0m\u001b[37m\u001b[0m \u001b[1m2s\u001b[0m 2ms/step - loss: 153667.4531 - mean_absolute_error: 288.8909 - val_loss: 186803.5000 - val_mean_absolute_error: 318.0179\n",
      "Epoch 16/60\n",
      "\u001b[1m1280/1280\u001b[0m \u001b[32m━━━━━━━━━━━━━━━━━━━━\u001b[0m\u001b[37m\u001b[0m \u001b[1m2s\u001b[0m 2ms/step - loss: 132835.9062 - mean_absolute_error: 268.4446 - val_loss: 173046.4062 - val_mean_absolute_error: 306.8536\n",
      "Epoch 17/60\n",
      "\u001b[1m1280/1280\u001b[0m \u001b[32m━━━━━━━━━━━━━━━━━━━━\u001b[0m\u001b[37m\u001b[0m \u001b[1m2s\u001b[0m 2ms/step - loss: 128564.0469 - mean_absolute_error: 262.7796 - val_loss: 163576.4531 - val_mean_absolute_error: 297.9167\n",
      "Epoch 18/60\n",
      "\u001b[1m1280/1280\u001b[0m \u001b[32m━━━━━━━━━━━━━━━━━━━━\u001b[0m\u001b[37m\u001b[0m \u001b[1m3s\u001b[0m 2ms/step - loss: 116648.7812 - mean_absolute_error: 251.9887 - val_loss: 158069.9531 - val_mean_absolute_error: 294.5341\n",
      "Epoch 19/60\n",
      "\u001b[1m1280/1280\u001b[0m \u001b[32m━━━━━━━━━━━━━━━━━━━━\u001b[0m\u001b[37m\u001b[0m \u001b[1m2s\u001b[0m 2ms/step - loss: 112443.7422 - mean_absolute_error: 244.8645 - val_loss: 152897.6406 - val_mean_absolute_error: 288.3650\n",
      "Epoch 20/60\n",
      "\u001b[1m1280/1280\u001b[0m \u001b[32m━━━━━━━━━━━━━━━━━━━━\u001b[0m\u001b[37m\u001b[0m \u001b[1m2s\u001b[0m 2ms/step - loss: 99994.2344 - mean_absolute_error: 233.6889 - val_loss: 146269.2188 - val_mean_absolute_error: 280.4260\n",
      "Epoch 21/60\n",
      "\u001b[1m1280/1280\u001b[0m \u001b[32m━━━━━━━━━━━━━━━━━━━━\u001b[0m\u001b[37m\u001b[0m \u001b[1m2s\u001b[0m 2ms/step - loss: 101314.3203 - mean_absolute_error: 233.9816 - val_loss: 142830.0781 - val_mean_absolute_error: 277.9928\n",
      "Epoch 22/60\n",
      "\u001b[1m1280/1280\u001b[0m \u001b[32m━━━━━━━━━━━━━━━━━━━━\u001b[0m\u001b[37m\u001b[0m \u001b[1m6s\u001b[0m 4ms/step - loss: 95100.2969 - mean_absolute_error: 227.0054 - val_loss: 139882.2656 - val_mean_absolute_error: 274.7938\n",
      "Epoch 23/60\n",
      "\u001b[1m1280/1280\u001b[0m \u001b[32m━━━━━━━━━━━━━━━━━━━━\u001b[0m\u001b[37m\u001b[0m \u001b[1m3s\u001b[0m 2ms/step - loss: 93818.8281 - mean_absolute_error: 223.1466 - val_loss: 135759.5625 - val_mean_absolute_error: 270.4268\n",
      "Epoch 24/60\n"
     ]
    }
   ],
   "source": [
    "# Data Preprocessing\n",
    "# Handling missing values (if any)\n",
    "df['Add-ons Purchased'].fillna(0, inplace=True)\n",
    "\n",
    "# Encoding categorical variables (one-hot encoding)\n",
    "df = pd.get_dummies(df, drop_first=True)\n",
    "\n",
    "# Defining Independent and Dependent Variables\n",
    "# Assuming 'Total Price' is the target variable (dependent variable)\n",
    "X = df.drop(['Total Price'], axis=1)  # Independent variables\n",
    "y = df['Total Price']  # Dependent variable\n",
    "\n",
    "# Splitting the dataset into Training and Test sets\n",
    "X_train, X_test, y_train, y_test = train_test_split(X, y, test_size=0.2, random_state=42)\n",
    "\n",
    "# Feature Scaling\n",
    "scaler = StandardScaler()\n",
    "X_train = scaler.fit_transform(X_train)\n",
    "X_test = scaler.transform(X_test)\n",
    "\n",
    "# Building the Neural Network\n",
    "model = Sequential()\n",
    "model.add(Dense(units=16, activation='relu', input_dim=X_train.shape[1]))\n",
    "model.add(Dense(units=8, activation='relu'))\n",
    "model.add(Dense(units=1, activation='linear'))\n",
    "\n",
    "# Compiling the Neural Network\n",
    "model.compile(optimizer='adam', loss='mean_squared_error', metrics=['mean_absolute_error'])\n",
    "\n",
    "# Training the Neural Network\n",
    "model.fit(X_train, y_train, epochs=60, batch_size=10, validation_split=0.2)\n",
    "\n",
    "# Evaluate the model\n",
    "eval_results = model.evaluate(X_test, y_test)\n",
    "print(f\"Test Loss: {eval_results[0]}, Test MAE: {eval_results[1]}\")\n",
    "\n",
    "# Predictions\n",
    "y_pred = model.predict(X_test)\n",
    "\n",
    "# Save the results in a DataFrame\n",
    "results_df = pd.DataFrame({'Actual': y_test, 'Predicted': y_pred.flatten()})"
   ]
  },
  {
   "cell_type": "code",
   "execution_count": null,
   "metadata": {},
   "outputs": [
    {
     "name": "stdout",
     "output_type": "stream",
     "text": [
      "        Actual    Predicted\n",
      "10650  5394.56  5307.643066\n",
      "2041   1976.24  1863.582275\n",
      "8668   2534.49  2392.054688\n",
      "1114   5538.33  5357.889160\n",
      "13902  4045.92  3706.028320\n",
      "...        ...          ...\n",
      "4073   4224.15  3841.657227\n",
      "7442   1689.66  1456.196289\n",
      "9999    927.92   899.116699\n",
      "1870    124.50    65.249962\n",
      "15196  1083.54   929.302063\n",
      "\n",
      "[4000 rows x 2 columns]\n"
     ]
    }
   ],
   "source": [
    "print(results_df)"
   ]
  }
 ],
 "metadata": {
  "kernelspec": {
   "display_name": "Python 3",
   "language": "python",
   "name": "python3"
  },
  "language_info": {
   "codemirror_mode": {
    "name": "ipython",
    "version": 3
   },
   "file_extension": ".py",
   "mimetype": "text/x-python",
   "name": "python",
   "nbconvert_exporter": "python",
   "pygments_lexer": "ipython3",
   "version": "3.12.6"
  }
 },
 "nbformat": 4,
 "nbformat_minor": 2
}
