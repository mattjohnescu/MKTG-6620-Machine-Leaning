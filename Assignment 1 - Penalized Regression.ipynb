{
 "cells": [
  {
   "cell_type": "markdown",
   "metadata": {},
   "source": [
    "# Assignment 1, Penalized Regression:\n",
    "**Author: Matthew Johnescu**"
   ]
  },
  {
   "cell_type": "markdown",
   "metadata": {},
   "source": [
    "# Table of Contents:\n",
    "- [Introduction](#introduction:)"
   ]
  },
  {
   "cell_type": "markdown",
   "metadata": {},
   "source": [
    "# Question Reponses:\n",
    "\n",
    "**From what perspective are you conducting the analysis? (Who are you? / Who are you working for?):**\n",
    "I am a data analyst working for an e-commerce platform aiming to understand customer purchasing behavior and predict complete orders based on order confirmations.\n",
    "\n",
    "**What is your question?:**\n",
    "Can we predict whether an order will be confirmed using customer demographics, session information, and product details?\n",
    "\n",
    "**Describe your dataset(s) including URL (if available).**\n",
    "The dataset is from the Customer 360 Insights Dataset, containing information on customer demographics, transaction details, and session behavior. It is a synthetic dataset.\n",
    "\n",
    "URL: https://www.kaggle.com/datasets/davedarshan/customer360insights/data\n",
    "\n",
    "\n",
    "**What is(are) your independent variable(s) and dependent variable(s)? Include variable type (binary, categorical, numeric).**\n",
    "Independent variables:\n",
    "- Gender (categorical - one-hot encoded)\n",
    "- Age (numeric)\n",
    "- CreditScore (numeric, binned into categorical features)\n",
    "- MonthlyIncome (numeric, binned into categorical features)\n",
    "- Country, State, City (categorical - one-hot encoded)\n",
    "- Price (numeric)\n",
    "- CampaignSchema (categorical - one-hot encoded)\n",
    "- Category (categorical - one-hot encoded)\n",
    "Dependent variable:\n",
    "- OrderConfirmation (binary, converted to integer for regression)\n",
    "\n",
    "**How are your variables suitable for your analysis method?**\n",
    "All independent variables are either numeric or have been properly processed using one-hot encoding or binning, making them suitable for linear regression. The linear regression model can effectively work with both the scaled numeric features and the one-hot encoded categorical features.\n",
    "\n",
    "\n",
    "**What are your conclusions (include references to one or two CLEARLY INDICATED AND IMPORTANT graphs or tables in your output)?**\n",
    "\n",
    "\n",
    "\n",
    "**What are your assumptions and limitations? Did you include any robustness checks?**\n",
    "Assumptions:\n",
    "- The relationship between the predictors and the target is linear.\n",
    "- The data has been adequately preprocessed to handle missing values and categorical variables.\n",
    "Limitations:\n",
    "- Linear regression is not ideal for predicting binary outcomes, making it less suitable for this problem, as a classification model might perform better.\n",
    "- No robustness checks, such as cross-validation or residual analysis, were performed to further assess model stability and reliability.\n",
    "\n"
   ]
  },
  {
   "cell_type": "markdown",
   "metadata": {},
   "source": [
    "# Imports:"
   ]
  },
  {
   "cell_type": "code",
   "execution_count": 3,
   "metadata": {},
   "outputs": [],
   "source": [
    "import pandas as pd\n",
    "from sklearn.model_selection import train_test_split\n",
    "from sklearn.preprocessing import StandardScaler, KBinsDiscretizer\n",
    "from sklearn.linear_model import LinearRegression\n",
    "from sklearn.metrics import mean_squared_error\n",
    "import matplotlib.pyplot as plt"
   ]
  },
  {
   "cell_type": "markdown",
   "metadata": {},
   "source": [
    "# Loading Data:"
   ]
  },
  {
   "cell_type": "code",
   "execution_count": 4,
   "metadata": {},
   "outputs": [
    {
     "name": "stdout",
     "output_type": "stream",
     "text": [
      "          SessionStart  CustomerID           FullName  Gender  Age  \\\n",
      "0  2019-01-01 02:42:00        1001  Brittany Franklin    Male   57   \n",
      "1  2019-01-02 20:35:00        1002      Scott Stewart  Female   69   \n",
      "2  2019-01-04 03:11:00        1003   Elizabeth Fowler  Female   21   \n",
      "3  2019-01-05 09:01:00        1004        Julian Wall  Female   67   \n",
      "4  2019-01-05 13:35:00        1005      James Simmons    Male   57   \n",
      "\n",
      "   CreditScore  MonthlyIncome Country      State        City  ... Price  \\\n",
      "0          780           7591   China  Guangdong    Dongguan  ...    50   \n",
      "1          746           3912   China   Shandong      Yantai  ...    80   \n",
      "2          772           7460      UK    England  Birmingham  ...    20   \n",
      "3          631           4765      UK    England  Birmingham  ...    20   \n",
      "4          630           3268   China   Shandong      Yantai  ...   100   \n",
      "\n",
      "  Quantity    CampaignSchema      CartAdditionTime  OrderConfirmation  \\\n",
      "0        4      Instagram-ads  2019-01-01 02:49:00               True   \n",
      "1        6         Google-ads  2019-01-02 20:50:00               True   \n",
      "2        2       Facebook-ads  2019-01-04 03:30:00               True   \n",
      "3        2        Twitter-ads  2019-01-05 09:17:00               True   \n",
      "4        6  Billboard-QR code  2019-01-05 13:40:00               True   \n",
      "\n",
      "  OrderConfirmationTime     PaymentMethod           SessionEnd OrderReturn  \\\n",
      "0   2019-01-01 03:02:00  Cash On Delivery  2019-01-01 02:53:00       False   \n",
      "1   2019-01-02 20:58:00        Debit Card  2019-01-02 20:54:00       False   \n",
      "2   2019-01-04 03:40:00  Cash On Delivery  2019-01-04 03:35:00       False   \n",
      "3   2019-01-05 09:26:00  Cash On Delivery  2019-01-05 09:20:00       False   \n",
      "4   2019-01-05 13:52:00        Debit Card  2019-01-05 13:42:00       False   \n",
      "\n",
      "  ReturnReason  \n",
      "0          NaN  \n",
      "1          NaN  \n",
      "2          NaN  \n",
      "3          NaN  \n",
      "4          NaN  \n",
      "\n",
      "[5 rows x 23 columns]\n"
     ]
    }
   ],
   "source": [
    "# Add File Path of the CSV file here\n",
    "file_path = \"C:/Users/johne/Downloads/Customer360Insights.csv\"\n",
    "\n",
    "# Reading the CSV file into a pandas DataFrame\n",
    "df = pd.read_csv(file_path)\n",
    "\n",
    "# Display the first 5 rows to verify the data\n",
    "print(df.head())\n"
   ]
  },
  {
   "cell_type": "code",
   "execution_count": 23,
   "metadata": {},
   "outputs": [
    {
     "data": {
      "image/png": "[encoded data removed]",
      "text/plain": [
       "<Figure size 640x480 with 1 Axes>"
      ]
     },
     "metadata": {},
     "output_type": "display_data"
    },
    {
     "name": "stdout",
     "output_type": "stream",
     "text": [
      "Mean Squared Error: 107.79634070474934\n"
     ]
    }
   ],
   "source": [
    "import pandas as pd\n",
    "from sklearn.model_selection import train_test_split\n",
    "from sklearn.preprocessing import StandardScaler, KBinsDiscretizer\n",
    "from sklearn.linear_model import LinearRegression\n",
    "from sklearn.metrics import mean_squared_error\n",
    "import matplotlib.pyplot as plt\n",
    "\n",
    "# Add File Path of the CSV file here \n",
    "file_path = \"C:/Users/johne/Downloads/Customer360Insights.csv\"\n",
    "\n",
    "# Reading the CSV file into a pandas DataFrame\n",
    "df = pd.read_csv(file_path)\n",
    "\n",
    "# Removing any trailing spaces from column names\n",
    "df.columns = df.columns.str.strip()\n",
    "\n",
    "# Defining the features and target\n",
    "features = ['Gender', 'Age', 'CreditScore', 'MonthlyIncome', 'Country', 'State', 'City', 'Quantity', 'CampaignSchema', 'Category']\n",
    "target = 'Price'\n",
    "\n",
    "# Converting numeric features ('CreditScore' and 'MonthlyIncome') into 4 bins each using KBinsDiscretizer\n",
    "kbins_credit_score = KBinsDiscretizer(n_bins=4, encode='onehot', strategy='uniform')\n",
    "kbins_monthly_income = KBinsDiscretizer(n_bins=4, encode='onehot', strategy='uniform')\n",
    "\n",
    "# Fitting and transforming the columns\n",
    "credit_score_bins = kbins_credit_score.fit_transform(df[['CreditScore']]).toarray()\n",
    "monthly_income_bins = kbins_monthly_income.fit_transform(df[['MonthlyIncome']]).toarray()\n",
    "\n",
    "# Creating new columns from the bins\n",
    "credit_score_df = pd.DataFrame(credit_score_bins, columns=[f'CreditScore_Bin_{i}' for i in range(1, 5)])\n",
    "monthly_income_df = pd.DataFrame(monthly_income_bins, columns=[f'MonthlyIncome_Bin_{i}' for i in range(1, 5)])\n",
    "\n",
    "# Concatenating the new bin features to the original dataframe\n",
    "df = pd.concat([df, credit_score_df, monthly_income_df], axis=1)\n",
    "\n",
    "# Checking for columns that need one-hot encoding and are present in the DataFrame\n",
    "categorical_columns = ['Gender', 'Country', 'State', 'City', 'CampaignSchema', 'Category']\n",
    "available_categorical_columns = [col for col in categorical_columns if col in df.columns]\n",
    "\n",
    "# One-hot encoding the available categorical features\n",
    "df = pd.get_dummies(df, columns=available_categorical_columns, drop_first=True)\n",
    "\n",
    "# Updating features after binning and encoding\n",
    "features = [col for col in df.columns if col not in ['Price', 'CreditScore', 'MonthlyIncome', \n",
    "                                                     'SessionStart', 'SessionEnd', 'CartAdditionTime', \n",
    "                                                     'OrderConfirmationTime', 'FullName', 'ReturnReason', \n",
    "                                                     'CustomerID', 'OrderReturn', 'PaymentMethod', 'Product']]\n",
    "\n",
    "# Defining X and y\n",
    "X = df[features]\n",
    "y = df[target]  # Using Price as the target for regression\n",
    "\n",
    "# Splitting dataset into train and test\n",
    "X_train, X_test, y_train, y_test = train_test_split(X, y, test_size=0.2, random_state=42)\n",
    "\n",
    "# Standardizing the features\n",
    "scaler = StandardScaler()\n",
    "X_train_scaled = scaler.fit_transform(X_train)\n",
    "X_test_scaled = scaler.transform(X_test)\n",
    "\n",
    "# Training the linear regression model\n",
    "model = LinearRegression()\n",
    "model.fit(X_train_scaled, y_train)\n",
    "\n",
    "# Making predictions and evaluating the model\n",
    "y_pred = model.predict(X_test_scaled)\n",
    "mse = mean_squared_error(y_test, y_pred)\n",
    "\n",
    "# Plotting predicted vs actual values\n",
    "plt.scatter(y_test, y_pred, alpha=0.5)\n",
    "plt.xlabel('Actual Price')\n",
    "plt.ylabel('Predicted Price')\n",
    "plt.title('Actual vs Predicted Price')\n",
    "plt.grid()\n",
    "plt.show()\n",
    "\n",
    "# Displaying Mean Squared Error\n",
    "print(f'Mean Squared Error: {mse}')\n"
   ]
  }
 ],
 "metadata": {
  "kernelspec": {
   "display_name": "Python 3",
   "language": "python",
   "name": "python3"
  },
  "language_info": {
   "codemirror_mode": {
    "name": "ipython",
    "version": 3
   },
   "file_extension": ".py",
   "mimetype": "text/x-python",
   "name": "python",
   "nbconvert_exporter": "python",
   "pygments_lexer": "ipython3",
   "version": "3.12.6"
  }
 },
 "nbformat": 4,
 "nbformat_minor": 2
}
