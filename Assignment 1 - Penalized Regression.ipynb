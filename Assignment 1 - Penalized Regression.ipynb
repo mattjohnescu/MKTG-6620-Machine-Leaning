{
 "cells": [
  {
   "cell_type": "markdown",
   "metadata": {},
   "source": [
    "# Assignment 1, Penalized Regression:\n",
    "**Author: Matthew Johnescu**"
   ]
  },
  {
   "cell_type": "markdown",
   "metadata": {},
   "source": [
    "# Table of Contents:\n",
    "- [Introduction](#introduction:)"
   ]
  },
  {
   "cell_type": "markdown",
   "metadata": {},
   "source": [
    "## Introduction:"
   ]
  },
  {
   "cell_type": "markdown",
   "metadata": {},
   "source": [
    "## From what perspective are you conducting the analysis?"
   ]
  },
  {
   "cell_type": "markdown",
   "metadata": {},
   "source": [
    "## What is your question?\n"
   ]
  },
  {
   "cell_type": "markdown",
   "metadata": {},
   "source": [
    "## Description of Data:\n",
    "\n",
    "URL: https://www.kaggle.com/datasets/davedarshan/customer360insights/data\n",
    "\n"
   ]
  },
  {
   "cell_type": "code",
   "execution_count": 2,
   "metadata": {},
   "outputs": [
    {
     "name": "stdout",
     "output_type": "stream",
     "text": [
      "          SessionStart  CustomerID           FullName  Gender  Age  \\\n",
      "0  2019-01-01 02:42:00        1001  Brittany Franklin    Male   57   \n",
      "1  2019-01-02 20:35:00        1002      Scott Stewart  Female   69   \n",
      "2  2019-01-04 03:11:00        1003   Elizabeth Fowler  Female   21   \n",
      "3  2019-01-05 09:01:00        1004        Julian Wall  Female   67   \n",
      "4  2019-01-05 13:35:00        1005      James Simmons    Male   57   \n",
      "\n",
      "   CreditScore  MonthlyIncome Country      State        City  ... Price  \\\n",
      "0          780           7591   China  Guangdong    Dongguan  ...    50   \n",
      "1          746           3912   China   Shandong      Yantai  ...    80   \n",
      "2          772           7460      UK    England  Birmingham  ...    20   \n",
      "3          631           4765      UK    England  Birmingham  ...    20   \n",
      "4          630           3268   China   Shandong      Yantai  ...   100   \n",
      "\n",
      "  Quantity    CampaignSchema      CartAdditionTime  OrderConfirmation  \\\n",
      "0        4      Instagram-ads  2019-01-01 02:49:00               True   \n",
      "1        6         Google-ads  2019-01-02 20:50:00               True   \n",
      "2        2       Facebook-ads  2019-01-04 03:30:00               True   \n",
      "3        2        Twitter-ads  2019-01-05 09:17:00               True   \n",
      "4        6  Billboard-QR code  2019-01-05 13:40:00               True   \n",
      "\n",
      "  OrderConfirmationTime     PaymentMethod           SessionEnd OrderReturn  \\\n",
      "0   2019-01-01 03:02:00  Cash On Delivery  2019-01-01 02:53:00       False   \n",
      "1   2019-01-02 20:58:00        Debit Card  2019-01-02 20:54:00       False   \n",
      "2   2019-01-04 03:40:00  Cash On Delivery  2019-01-04 03:35:00       False   \n",
      "3   2019-01-05 09:26:00  Cash On Delivery  2019-01-05 09:20:00       False   \n",
      "4   2019-01-05 13:52:00        Debit Card  2019-01-05 13:42:00       False   \n",
      "\n",
      "  ReturnReason  \n",
      "0          NaN  \n",
      "1          NaN  \n",
      "2          NaN  \n",
      "3          NaN  \n",
      "4          NaN  \n",
      "\n",
      "[5 rows x 23 columns]\n"
     ]
    }
   ],
   "source": [
    "import pandas as pd\n",
    "\n",
    "# Add File Path of the CSV file here\n",
    "file_path = \"C:/Users/johne/Downloads/Customer360Insights.csv\"\n",
    "\n",
    "# Reading the CSV file into a pandas DataFrame\n",
    "df = pd.read_csv(file_path)\n",
    "\n",
    "# Display the first 5 rows to verify the data\n",
    "print(df.head())\n"
   ]
  },
  {
   "cell_type": "markdown",
   "metadata": {},
   "source": [
    "## What is(are) your independent variable(s) and dependent variable(s)? Include variable type (binary, categorical, numeric)."
   ]
  },
  {
   "cell_type": "markdown",
   "metadata": {},
   "source": [
    "## How are your variables suitable for your analysis method?\n"
   ]
  },
  {
   "cell_type": "markdown",
   "metadata": {},
   "source": [
    "## What are your conclusions (include references to one or two CLEARLY INDICATED AND IMPORTANT graphs or tables in your output)?"
   ]
  },
  {
   "cell_type": "markdown",
   "metadata": {},
   "source": [
    "## What are your assumptions and limitations? Did you include any robustness checks?\n"
   ]
  }
 ],
 "metadata": {
  "kernelspec": {
   "display_name": "Python 3",
   "language": "python",
   "name": "python3"
  },
  "language_info": {
   "codemirror_mode": {
    "name": "ipython",
    "version": 3
   },
   "file_extension": ".py",
   "mimetype": "text/x-python",
   "name": "python",
   "nbconvert_exporter": "python",
   "pygments_lexer": "ipython3",
   "version": "3.12.6"
  }
 },
 "nbformat": 4,
 "nbformat_minor": 2
}
