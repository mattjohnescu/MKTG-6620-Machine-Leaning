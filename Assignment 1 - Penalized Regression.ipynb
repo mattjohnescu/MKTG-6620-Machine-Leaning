{
 "cells": [
  {
   "cell_type": "markdown",
   "metadata": {},
   "source": [
    "# Assignment 1, Penalized Regression:\n",
    "**Author: Matthew Johnescu**"
   ]
  },
  {
   "cell_type": "markdown",
   "metadata": {},
   "source": [
    "# Table of Contents:\n",
    "- [Introduction](#introduction:)"
   ]
  },
  {
   "cell_type": "markdown",
   "metadata": {},
   "source": [
    "# Question Reponses:\n",
    "\n",
    "**From what perspective are you conducting the analysis? (Who are you? / Who are you working for?):**\n",
    "I am a data analyst working for an electronics e-commerce platform aiming to understand customer purchasing behavior and predict order completion based on various customer and order attributes.\n",
    "\n",
    "**What is your question?:**\n",
    "Can we predict whether an order will be completed or canceled using customer demographics, session information, and product details?\n",
    "\n",
    "**Describe your dataset(s) including URL (if available).**\n",
    "The dataset is from an e-commerce company dealing in electronics, containing sales transactions, customer demographics, and order information over a one-year period. The data is synthetic, generated for analysis purposes.\n",
    "URL: https://www.kaggle.com/datasets/cameronseamons/electronic-sales-sep2023-sep2024\n",
    "\n",
    "\n",
    "**What is(are) your independent variable(s) and dependent variable(s)? Include variable type (binary, categorical, numeric).**\n",
    "Independent variables:\n",
    "- Gender (categorical - Male, Female, one-hot encoded)\n",
    "- Age (numeric)\n",
    "- Loyalty Member (categorical - Yes/No, one-hot encoded)\n",
    "- Product Type (categorical - one-hot encoded)\n",
    "- Rating (numeric)\n",
    "- Payment Method (categorical - one-hot encoded)\n",
    "- Total Price (numeric)\n",
    "- Quantity (numeric)\n",
    "- Shipping Type (categorical - one-hot encoded)\n",
    "- Add-ons Purchased (categorical - encoded as appropriate)\n",
    "- Add-on Total (numeric)\n",
    "Dependent variable:\n",
    "- Order Status (categorical - Completed, Cancelled, converted to binary for modeling)\n",
    "\n",
    "**How are your variables suitable for your analysis method?**\n",
    "All independent variables are either numeric or have been properly processed using one-hot encoding or binning, making them suitable for linear regression. The linear regression model can effectively work with both the scaled numeric features and the one-hot encoded categorical features.\n",
    "\n",
    "\n",
    "**What are your conclusions (include references to one or two CLEARLY INDICATED AND IMPORTANT graphs or tables in your output)?**\n",
    "\n",
    "\n",
    "\n",
    "**What are your assumptions and limitations? Did you include any robustness checks?**\n",
    "Assumptions:\n",
    "- The relationship between the predictors and the target is linear.\n",
    "- The data has been adequately preprocessed to handle missing values and categorical variables.\n",
    "Limitations:\n",
    "- Linear regression is not ideal for predicting binary outcomes, making it less suitable for this problem, as a classification model might perform better.\n",
    "- No robustness checks, such as cross-validation or residual analysis, were performed to further assess model stability and reliability.\n",
    "\n"
   ]
  },
  {
   "cell_type": "markdown",
   "metadata": {},
   "source": [
    "# Imports:"
   ]
  },
  {
   "cell_type": "code",
   "execution_count": 3,
   "metadata": {},
   "outputs": [],
   "source": [
    "import pandas as pd\n",
    "from sklearn.model_selection import train_test_split\n",
    "from sklearn.preprocessing import StandardScaler, KBinsDiscretizer\n",
    "from sklearn.linear_model import LinearRegression\n",
    "from sklearn.metrics import mean_squared_error\n",
    "import matplotlib.pyplot as plt\n",
    "import pandas as pd\n",
    "import matplotlib.pyplot as plt\n",
    "import seaborn as sns"
   ]
  },
  {
   "cell_type": "markdown",
   "metadata": {},
   "source": [
    "# Loading Data:"
   ]
  },
  {
   "cell_type": "code",
   "execution_count": 4,
   "metadata": {},
   "outputs": [
    {
     "name": "stdout",
     "output_type": "stream",
     "text": [
      "          SessionStart  CustomerID           FullName  Gender  Age  \\\n",
      "0  2019-01-01 02:42:00        1001  Brittany Franklin    Male   57   \n",
      "1  2019-01-02 20:35:00        1002      Scott Stewart  Female   69   \n",
      "2  2019-01-04 03:11:00        1003   Elizabeth Fowler  Female   21   \n",
      "3  2019-01-05 09:01:00        1004        Julian Wall  Female   67   \n",
      "4  2019-01-05 13:35:00        1005      James Simmons    Male   57   \n",
      "\n",
      "   CreditScore  MonthlyIncome Country      State        City  ... Price  \\\n",
      "0          780           7591   China  Guangdong    Dongguan  ...    50   \n",
      "1          746           3912   China   Shandong      Yantai  ...    80   \n",
      "2          772           7460      UK    England  Birmingham  ...    20   \n",
      "3          631           4765      UK    England  Birmingham  ...    20   \n",
      "4          630           3268   China   Shandong      Yantai  ...   100   \n",
      "\n",
      "  Quantity    CampaignSchema      CartAdditionTime  OrderConfirmation  \\\n",
      "0        4      Instagram-ads  2019-01-01 02:49:00               True   \n",
      "1        6         Google-ads  2019-01-02 20:50:00               True   \n",
      "2        2       Facebook-ads  2019-01-04 03:30:00               True   \n",
      "3        2        Twitter-ads  2019-01-05 09:17:00               True   \n",
      "4        6  Billboard-QR code  2019-01-05 13:40:00               True   \n",
      "\n",
      "  OrderConfirmationTime     PaymentMethod           SessionEnd OrderReturn  \\\n",
      "0   2019-01-01 03:02:00  Cash On Delivery  2019-01-01 02:53:00       False   \n",
      "1   2019-01-02 20:58:00        Debit Card  2019-01-02 20:54:00       False   \n",
      "2   2019-01-04 03:40:00  Cash On Delivery  2019-01-04 03:35:00       False   \n",
      "3   2019-01-05 09:26:00  Cash On Delivery  2019-01-05 09:20:00       False   \n",
      "4   2019-01-05 13:52:00        Debit Card  2019-01-05 13:42:00       False   \n",
      "\n",
      "  ReturnReason  \n",
      "0          NaN  \n",
      "1          NaN  \n",
      "2          NaN  \n",
      "3          NaN  \n",
      "4          NaN  \n",
      "\n",
      "[5 rows x 23 columns]\n"
     ]
    }
   ],
   "source": [
    "# Add File Path of the CSV file here\n",
    "file_path = \"C:/Users/matt/Downloads/archive (2)/Electronic_sales_Sep2023-Sep2024.csv\"\n",
    "\n",
    "# Reading the CSV file into a pandas DataFrame\n",
    "df = pd.read_csv(file_path)\n",
    "\n",
    "# Display the first 5 rows to verify the data\n",
    "print(df.head())\n"
   ]
  },
  {
   "cell_type": "code",
   "execution_count": null,
   "metadata": {},
   "outputs": [],
   "source": [
    "# Create a point plot of Age and CreditScore\n",
    "plt.figure(figsize=(10, 6))\n",
    "sns.pointplot(x='Age', y='CreditScore', data=df)\n",
    "plt.title('Point Plot of Age and CreditScore')\n",
    "plt.xlabel('Age')\n",
    "plt.ylabel('CreditScore')\n",
    "plt.show()"
   ]
  }
 ],
 "metadata": {
  "kernelspec": {
   "display_name": "Python 3",
   "language": "python",
   "name": "python3"
  },
  "language_info": {
   "codemirror_mode": {
    "name": "ipython",
    "version": 3
   },
   "file_extension": ".py",
   "mimetype": "text/x-python",
   "name": "python",
   "nbconvert_exporter": "python",
   "pygments_lexer": "ipython3",
   "version": "3.12.6"
  }
 },
 "nbformat": 4,
 "nbformat_minor": 2
}
