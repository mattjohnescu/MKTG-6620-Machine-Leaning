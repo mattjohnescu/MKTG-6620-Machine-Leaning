{
 "cells": [
  {
   "cell_type": "markdown",
   "metadata": {},
   "source": [
    "Assignment 2: Time Series Forcasting "
   ]
  },
  {
   "cell_type": "markdown",
   "metadata": {},
   "source": [
    "Dataset URL: https://www.kaggle.com/datasets/bobnau/daily-website-visitors"
   ]
  },
  {
   "cell_type": "code",
   "execution_count": 26,
   "metadata": {},
   "outputs": [],
   "source": [
    "# Import necessary libraries for time series analysis\n",
    "from statsmodels.tsa.arima.model import ARIMA\n",
    "from statsmodels.tsa.stattools import adfuller\n",
    "import matplotlib.pyplot as plt\n",
    "import numpy as np\n",
    "import pandas as pd\n",
    "from sklearn.model_selection import TimeSeriesSplit\n"
   ]
  },
  {
   "cell_type": "code",
   "execution_count": 57,
   "metadata": {},
   "outputs": [],
   "source": [
    "# Add File Path of the CSV file here\n",
    "# file_path = \"\"\n",
    "file_path = \"C:/Users/matt/Downloads/archive (3)/daily-website-visitors.csv\"\n",
    "\n",
    "# Reading the CSV file into a pandas DataFrame\n",
    "df = pd.read_csv(file_path)"
   ]
  },
  {
   "cell_type": "code",
   "execution_count": 46,
   "metadata": {},
   "outputs": [
    {
     "name": "stdout",
     "output_type": "stream",
     "text": [
      "Index(['Row', 'Day', 'Day.Of.Week', 'Date', 'Page.Loads', 'Unique.Visits',\n",
      "       'First.Time.Visits', 'Returning.Visits'],\n",
      "      dtype='object')\n"
     ]
    }
   ],
   "source": [
    "# Print column names to identify the correct date column\n",
    "print(df.columns)\n"
   ]
  },
  {
   "cell_type": "markdown",
   "metadata": {},
   "source": [
    "# Pre Processing for Time Series Analysis:"
   ]
  },
  {
   "cell_type": "markdown",
   "metadata": {},
   "source": []
  },
  {
   "cell_type": "code",
   "execution_count": null,
   "metadata": {},
   "outputs": [],
   "source": [
    "# Step 1: Import necessary libraries\n",
    "from tbats import BATS\n",
    "from sklearn.metrics import mean_squared_error\n",
    "import numpy as np\n",
    "import matplotlib.pyplot as plt\n",
    "\n",
    "# Assuming df['Unique.Visits'] is already cleaned and processed\n",
    "\n",
    "# Step 2: Split the data into train and test sets (80% train, 20% test)\n",
    "train_size = int(len(df) * 0.8)\n",
    "train, test = df['Unique.Visits'][:train_size], df['Unique.Visits'][train_size:]\n",
    "\n",
    "# Step 3: Initialize and fit the BATS model with weekly seasonality (7 days)\n",
    "estimator = BATS(seasonal_periods=[7])  # Assuming weekly seasonality\n",
    "bats_model = estimator.fit(train)\n",
    "\n",
    "# Step 4: Forecast on the test set\n",
    "forecast = bats_model.forecast(steps=len(test))\n",
    "\n",
    "# Step 5: Evaluate the model using Mean Squared Error (MSE)\n",
    "mse = mean_squared_error(test, forecast)\n",
    "print(f\"Mean Squared Error (MSE) on Test Set: {mse}\")\n",
    "\n",
    "# Step 6: Plot actual vs predicted values\n",
    "plt.figure(figsize=(10,6))\n",
    "plt.plot(test.index, test, label='Actual Unique Visits', color='blue')\n",
    "plt.plot(test.index, forecast, label='Forecasted Unique Visits (BATS)', color='red', linestyle='--')\n",
    "plt.title('BATS Model: Actual vs Forecasted Unique Visits')\n",
    "plt.xlabel('Date')\n",
    "plt.ylabel('Unique Visits')\n",
    "plt.legend()\n",
    "plt.grid(True)\n",
    "plt.show()\n"
   ]
  },
  {
   "cell_type": "code",
   "execution_count": null,
   "metadata": {},
   "outputs": [],
   "source": [
    "# Import required packages\n",
    "from tbats import TBATS\n",
    "from sklearn.metrics import mean_squared_error\n",
    "import matplotlib.pyplot as plt\n",
    "import numpy as np\n",
    "\n",
    "# Step 1: Preprocess the 'Unique.Visits' column by removing commas and converting to numeric\n",
    "df['Unique.Visits'] = df['Unique.Visits'].str.replace(',', '').astype(float)\n",
    "\n",
    "# Step 2: Split the data into train and test sets (80% train, 20% test)\n",
    "train_size = int(len(df) * 0.8)\n",
    "train, test = df['Unique.Visits'][:train_size], df['Unique.Visits'][train_size:]\n",
    "\n",
    "# Step 3: Initialize and fit the TBATS model\n",
    "estimator = TBATS(seasonal_periods=[7])  # Assuming weekly seasonality\n",
    "tbats_model = estimator.fit(train)\n",
    "\n",
    "# Step 4: Forecast on the test set\n",
    "forecast = tbats_model.forecast(steps=len(test))\n",
    "\n",
    "# Step 5: Evaluate the model using Mean Squared Error (MSE)\n",
    "mse = mean_squared_error(test, forecast)\n",
    "print(f\"Mean Squared Error (MSE) on Test Set: {mse}\")\n",
    "\n",
    "# Step 6: Plot actual vs predicted values\n",
    "plt.figure(figsize=(10,6))\n",
    "plt.plot(test.index, test, label='Actual Unique Visits', color='blue')\n",
    "plt.plot(test.index, forecast, label='Forecasted Unique Visits (TBATS)', color='red', linestyle='--')\n",
    "plt.title('TBATS Model: Actual vs Forecasted Unique Visits')\n",
    "plt.xlabel('Date')\n",
    "plt.ylabel('Unique Visits')\n",
    "plt.legend()\n",
    "plt.grid(True)\n",
    "plt.show()\n",
    "\n"
   ]
  }
 ],
 "metadata": {
  "kernelspec": {
   "display_name": "Python 3",
   "language": "python",
   "name": "python3"
  },
  "language_info": {
   "codemirror_mode": {
    "name": "ipython",
    "version": 3
   },
   "file_extension": ".py",
   "mimetype": "text/x-python",
   "name": "python",
   "nbconvert_exporter": "python",
   "pygments_lexer": "ipython3",
   "version": "3.12.4"
  }
 },
 "nbformat": 4,
 "nbformat_minor": 2
}
